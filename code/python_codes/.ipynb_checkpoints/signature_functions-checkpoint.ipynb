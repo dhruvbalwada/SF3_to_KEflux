{
 "cells": [
  {
   "cell_type": "markdown",
   "id": "0319fed8",
   "metadata": {},
   "source": [
    "### Signature functions \n",
    "\n",
    "Structure functions are not exactly analogous to the distribution of kinetic energy as a function of scale. A very rough interpretation of them from Townsend suggested that they are similar to the cumulative energy upto a certain scale (summing from smaller to larger). This interpretation is only partially correct, since a contribution also comes from the larger scale enstrophy. \n",
    "\n",
    "Heurestically this translates as, the shallower the SF2 or KE spectrum, the more representative it is of the cumulative energy distribution. "
   ]
  },
  {
   "cell_type": "markdown",
   "id": "96bcc6b8",
   "metadata": {},
   "source": [
    "To improve on this, Davidson 2004 suggested a real space analogue for the spectrum. It is defined as: \n",
    "\n",
    "\\begin{equation}\n",
    "V(r) = -\\frac{r^2}{2} \\frac{\\partial}{\\partial r} \\frac{1}{r} \\frac{\\partial}{\\partial r} (\\frac{3}{4} \\left< \\triangle v \\right> ^2)\n",
    "\\end{equation} "
   ]
  },
  {
   "cell_type": "code",
   "execution_count": null,
   "id": "b0e4c931",
   "metadata": {},
   "outputs": [],
   "source": []
  }
 ],
 "metadata": {
  "kernelspec": {
   "display_name": "Python [conda env:sogos]",
   "language": "python",
   "name": "conda-env-sogos-py"
  },
  "language_info": {
   "codemirror_mode": {
    "name": "ipython",
    "version": 3
   },
   "file_extension": ".py",
   "mimetype": "text/x-python",
   "name": "python",
   "nbconvert_exporter": "python",
   "pygments_lexer": "ipython3",
   "version": "3.7.10"
  }
 },
 "nbformat": 4,
 "nbformat_minor": 5
}
